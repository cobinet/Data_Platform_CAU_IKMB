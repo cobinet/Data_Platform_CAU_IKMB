{
 "cells": [
  {
   "cell_type": "markdown",
   "metadata": {
    "vscode": {
     "languageId": "plaintext"
    }
   },
   "source": [
    "# This is the sample code how to insert data in mongodb locally"
   ]
  },
  {
   "cell_type": "markdown",
   "metadata": {},
   "source": [
    "### To install any packages in python just type !pip install and package name. For example: !pip install pymongo to install pymongo package which is required to connect to mongodb client through python."
   ]
  },
  {
   "cell_type": "markdown",
   "metadata": {},
   "source": [
    "!pip install pymongo"
   ]
  },
  {
   "cell_type": "code",
   "execution_count": null,
   "metadata": {},
   "outputs": [],
   "source": [
    "client = pymongo.MongoClient(\"localhost://localhost:27017/\")  # Connect to the local MongoDB instance\n",
    "\n",
    "db = client[\"your_database_name\"]  # Create or connect to the database which can be of your choice when you initially name it\n",
    "\n",
    "collection = db[\"your_collection_name\"]  # Create or connect to the collection which can be of your choice when you initially name it\n",
    "\n",
    "collection.delete_many({}) # remove first to avoid duplication\n",
    "\n",
    "# For multiple documents\n",
    "collection.insert_many(name_of_document_to_insert)\n",
    "\n",
    "print(\"Data inserted successfully into MongoDB!\")"
   ]
  }
 ],
 "metadata": {
  "kernelspec": {
   "display_name": "Python 3",
   "language": "python",
   "name": "python3"
  },
  "language_info": {
   "codemirror_mode": {
    "name": "ipython",
    "version": 3
   },
   "file_extension": ".py",
   "mimetype": "text/x-python",
   "name": "python",
   "nbconvert_exporter": "python",
   "pygments_lexer": "ipython3",
   "version": "3.13.0"
  }
 },
 "nbformat": 4,
 "nbformat_minor": 2
}
